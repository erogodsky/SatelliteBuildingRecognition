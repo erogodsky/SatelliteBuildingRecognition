{
 "cells": [
  {
   "cell_type": "code",
   "execution_count": null,
   "id": "53fc2136-54d2-4081-97f2-c95ac6dd58e5",
   "metadata": {},
   "outputs": [],
   "source": [
    "import numpy as np \n",
    "import pandas as pd \n",
    "import matplotlib.pyplot as plt\n",
    "import glob\n",
    "import cv2\n",
    "import pickle\n",
    "\n",
    "from keras.models import Sequential, Model\n",
    "from keras.layers import Conv2D\n",
    "import os\n",
    "from keras.applications.vgg16 import VGG16"
   ]
  },
  {
   "cell_type": "code",
   "execution_count": null,
   "id": "63d4a802-09c9-4956-af92-c53b30577510",
   "metadata": {},
   "outputs": [],
   "source": [
    "print(os.listdir(\"images/\"))"
   ]
  },
  {
   "cell_type": "code",
   "execution_count": null,
   "id": "6548c47f-2f5b-4c0b-acae-ce5e0869cbaa",
   "metadata": {},
   "outputs": [],
   "source": [
    "#Resizing images is optional, CNNs are ok with large images\n",
    "SIZE_X = 1024 #Resize images (height  = X, width = Y)\n",
    "SIZE_Y = 996"
   ]
  },
  {
   "cell_type": "code",
   "execution_count": null,
   "id": "fa1bbf4f-3b2d-4d0a-957e-9904e2bdf9ff",
   "metadata": {},
   "outputs": [],
   "source": [
    "#Capture training image info as a list\n",
    "train_images = []\n",
    "\n",
    "for directory_path in glob.glob(\"images/train_images\"):\n",
    "    for img_path in glob.glob(os.path.join(directory_path, \"*.tif\")):\n",
    "        img = cv2.imread(img_path, cv2.IMREAD_COLOR)       \n",
    "        img = cv2.resize(img, (SIZE_Y, SIZE_X))\n",
    "        img = cv2.cvtColor(img, cv2.COLOR_RGB2BGR)\n",
    "        train_images.append(img)\n",
    "        #train_labels.append(label)\n",
    "#Convert list to array for machine learning processing        \n",
    "train_images = np.array(train_images)"
   ]
  },
  {
   "cell_type": "code",
   "execution_count": null,
   "id": "ce829ff4-e77c-4df0-8c82-2f3da9b4633b",
   "metadata": {},
   "outputs": [],
   "source": [
    "#Capture mask/label info as a list\n",
    "train_masks = [] \n",
    "for directory_path in glob.glob(\"images/train_masks\"):\n",
    "    for mask_path in glob.glob(os.path.join(directory_path, \"*.tif\")):\n",
    "        mask = cv2.imread(mask_path, 0)       \n",
    "        mask = cv2.resize(mask, (SIZE_Y, SIZE_X))\n",
    "        #mask = cv2.cvtColor(mask, cv2.COLOR_RGB2BGR)\n",
    "        train_masks.append(mask)\n",
    "        #train_labels.append(label)\n",
    "#Convert list to array for machine learning processing          \n",
    "train_masks = np.array(train_masks)"
   ]
  },
  {
   "cell_type": "code",
   "execution_count": null,
   "id": "911a8ed5-2388-4881-ab17-ca759229dedf",
   "metadata": {},
   "outputs": [],
   "source": [
    "#Use customary x_train and y_train variables\n",
    "X_train = train_images\n",
    "y_train = train_masks\n",
    "y_train = np.expand_dims(y_train, axis=3) #May not be necessary.. leftover from previous code "
   ]
  },
  {
   "cell_type": "code",
   "execution_count": null,
   "id": "a4e5630c-5873-454c-b5c0-09befae7ba1b",
   "metadata": {},
   "outputs": [],
   "source": [
    "#Load VGG16 model wothout classifier/fully connected layers\n",
    "#Load imagenet weights that we are going to use as feature generators\n",
    "VGG_model = VGG16(weights='imagenet', include_top=False, input_shape=(SIZE_X, SIZE_Y, 3))\n",
    "\n",
    "#Make loaded layers as non-trainable. This is important as we want to work with pre-trained weights\n",
    "for layer in VGG_model.layers:\n",
    "\tlayer.trainable = False\n",
    "    \n",
    "VGG_model.summary()  #Trainable parameters will be 0"
   ]
  },
  {
   "cell_type": "code",
   "execution_count": null,
   "id": "0fe80c1b-a591-4787-b564-af0a2d8fae24",
   "metadata": {},
   "outputs": [],
   "source": [
    "#After the first 2 convolutional layers the image dimension changes. \n",
    "#So for easy comparison to Y (labels) let us only take first 2 conv layers\n",
    "#and create a new model to extract features\n",
    "#New model with only first 2 conv layers\n",
    "new_model = Model(inputs=VGG_model.input, outputs=VGG_model.get_layer('block1_conv2').output)\n",
    "new_model.summary()"
   ]
  },
  {
   "cell_type": "code",
   "execution_count": null,
   "id": "18571822-6bbf-4ea4-a8fa-cd3593b4e2ca",
   "metadata": {},
   "outputs": [],
   "source": [
    "#Now, let us apply feature extractor to our training data\n",
    "features=new_model.predict(X_train)"
   ]
  },
  {
   "cell_type": "code",
   "execution_count": null,
   "id": "e0b4b6b0-7e3f-43b8-ab4e-d79cc9d82a6d",
   "metadata": {},
   "outputs": [],
   "source": [
    "#Plot features to view them\n",
    "square = 8\n",
    "ix=1\n",
    "for _ in range(square):\n",
    "    for _ in range(square):\n",
    "        ax = plt.subplot(square, square, ix)\n",
    "        ax.set_xticks([])\n",
    "        ax.set_yticks([])\n",
    "        plt.imshow(features[0,:,:,ix-1], cmap='gray')\n",
    "        ix +=1\n",
    "plt.show()"
   ]
  },
  {
   "cell_type": "code",
   "execution_count": null,
   "id": "a6f324a9-611a-4d3b-8f42-1dca7afa2c58",
   "metadata": {},
   "outputs": [],
   "source": [
    "#Reassign 'features' as X to make it easy to follow\n",
    "X=features\n",
    "X = X.reshape(-1, X.shape[3])  #Make it compatible for Random Forest and match Y labels"
   ]
  },
  {
   "cell_type": "code",
   "execution_count": null,
   "id": "9ab006ba-7fb6-4271-b493-bd67c8e0d134",
   "metadata": {},
   "outputs": [],
   "source": [
    "#Reshape Y to match X\n",
    "Y = y_train.reshape(-1)"
   ]
  },
  {
   "cell_type": "code",
   "execution_count": null,
   "id": "280e501e-2943-415c-b5b2-6ddc8bd15a06",
   "metadata": {},
   "outputs": [],
   "source": [
    "#Combine X and Y into a dataframe to make it easy to drop all rows with Y values 0\n",
    "#In our labels Y values 0 = unlabeled pixels. \n",
    "dataset = pd.DataFrame(X)\n",
    "dataset['Label'] = Y\n",
    "print(dataset['Label'].unique())\n",
    "print(dataset['Label'].value_counts())"
   ]
  },
  {
   "cell_type": "code",
   "execution_count": null,
   "id": "caf190b3-81ee-4fb1-8e77-17811a9c8848",
   "metadata": {},
   "outputs": [],
   "source": [
    "##If we do not want to include pixels with value 0 \n",
    "##e.g. Sometimes unlabeled pixels may be given a value 0.\n",
    "dataset = dataset[dataset['Label'] != 0]"
   ]
  },
  {
   "cell_type": "code",
   "execution_count": null,
   "id": "d37965c8-8ba9-4fbf-b722-83ab8fb3b7c1",
   "metadata": {},
   "outputs": [],
   "source": [
    "#Redefine X and Y for Random Forest\n",
    "X_for_RF = dataset.drop(labels = ['Label'], axis=1)\n",
    "Y_for_RF = dataset['Label']"
   ]
  },
  {
   "cell_type": "code",
   "execution_count": null,
   "id": "7b1e4d9d-f8be-490d-bea8-aa53ffc26224",
   "metadata": {},
   "outputs": [],
   "source": [
    "#RANDOM FOREST\n",
    "from sklearn.ensemble import RandomForestClassifier\n",
    "model = RandomForestClassifier(n_estimators = 50, random_state = 42)"
   ]
  },
  {
   "cell_type": "code",
   "execution_count": null,
   "id": "1c7a25f1-679c-491f-95da-b7afd5996a12",
   "metadata": {},
   "outputs": [],
   "source": [
    "# Train the model on training data\n",
    "model.fit(X_for_RF, Y_for_RF) "
   ]
  },
  {
   "cell_type": "code",
   "execution_count": null,
   "id": "e7231c22-f320-4164-8530-6071da5c9aa2",
   "metadata": {},
   "outputs": [],
   "source": [
    "#Save model for future use\n",
    "filename = 'RF_model.sav'\n",
    "pickle.dump(model, open(filename, 'wb'))"
   ]
  },
  {
   "cell_type": "code",
   "execution_count": null,
   "id": "fd651ba2-e403-450c-8602-9a747d1070fc",
   "metadata": {},
   "outputs": [],
   "source": [
    "#Load model.... \n",
    "loaded_model = pickle.load(open(filename, 'rb'))"
   ]
  },
  {
   "cell_type": "code",
   "execution_count": null,
   "id": "fcab9a9e-cee5-4e1c-9f6c-6aca806b00c4",
   "metadata": {},
   "outputs": [],
   "source": [
    "#Test on a different image\n",
    "#READ EXTERNAL IMAGE...\n",
    "test_img = cv2.imread('images/test_images/Sandstone_Versa0360.tif', cv2.IMREAD_COLOR)       \n",
    "test_img = cv2.resize(test_img, (SIZE_Y, SIZE_X))\n",
    "test_img = cv2.cvtColor(test_img, cv2.COLOR_RGB2BGR)\n",
    "test_img = np.expand_dims(test_img, axis=0)"
   ]
  },
  {
   "cell_type": "code",
   "execution_count": null,
   "id": "f33fa821-86e9-4f3f-bffd-71b7ad4ea0bd",
   "metadata": {},
   "outputs": [],
   "source": [
    "#predict_image = np.expand_dims(X_train[8,:,:,:], axis=0)\n",
    "X_test_feature = new_model.predict(test_img)\n",
    "X_test_feature = X_test_feature.reshape(-1, X_test_feature.shape[3])\n",
    "\n",
    "prediction = loaded_model.predict(X_test_feature)"
   ]
  },
  {
   "cell_type": "code",
   "execution_count": null,
   "id": "68149341-8e18-43d6-b940-efff03b6bf95",
   "metadata": {},
   "outputs": [],
   "source": [
    "#View and Save segmented image\n",
    "prediction_image = prediction.reshape(mask.shape)\n",
    "plt.imshow(prediction_image, cmap='gray')\n",
    "plt.imsave('images/test_images/360_segmented.jpg', prediction_image, cmap='gray')"
   ]
  }
 ],
 "metadata": {
  "kernelspec": {
   "display_name": "tf",
   "language": "python",
   "name": "tf"
  },
  "language_info": {
   "codemirror_mode": {
    "name": "ipython",
    "version": 3
   },
   "file_extension": ".py",
   "mimetype": "text/x-python",
   "name": "python",
   "nbconvert_exporter": "python",
   "pygments_lexer": "ipython3",
   "version": "3.9.16"
  }
 },
 "nbformat": 4,
 "nbformat_minor": 5
}
